{
 "cells": [
  {
   "cell_type": "code",
   "execution_count": 8,
   "id": "7e83d5b7",
   "metadata": {},
   "outputs": [],
   "source": [
    "import pandas as pd\n",
    "import numpy as np"
   ]
  },
  {
   "cell_type": "code",
   "execution_count": 9,
   "id": "f02de536",
   "metadata": {},
   "outputs": [],
   "source": [
    "df = pd.read_csv('C:/Users/Nisha/Desktop/Case-Studies/stocks_data.csv') # From a CSV file"
   ]
  },
  {
   "cell_type": "code",
   "execution_count": 10,
   "id": "efcd11a7",
   "metadata": {},
   "outputs": [
    {
     "name": "stdout",
     "output_type": "stream",
     "text": [
      "(3006503, 8)\n"
     ]
    }
   ],
   "source": [
    "print(df.shape) # number of rows and columns\n"
   ]
  },
  {
   "cell_type": "code",
   "execution_count": 11,
   "id": "6a010daa",
   "metadata": {},
   "outputs": [
    {
     "data": {
      "text/html": [
       "<div>\n",
       "<style scoped>\n",
       "    .dataframe tbody tr th:only-of-type {\n",
       "        vertical-align: middle;\n",
       "    }\n",
       "\n",
       "    .dataframe tbody tr th {\n",
       "        vertical-align: top;\n",
       "    }\n",
       "\n",
       "    .dataframe thead th {\n",
       "        text-align: right;\n",
       "    }\n",
       "</style>\n",
       "<table border=\"1\" class=\"dataframe\">\n",
       "  <thead>\n",
       "    <tr style=\"text-align: right;\">\n",
       "      <th></th>\n",
       "      <th>Date</th>\n",
       "      <th>symbol</th>\n",
       "      <th>Open</th>\n",
       "      <th>High</th>\n",
       "      <th>Low</th>\n",
       "      <th>Close</th>\n",
       "      <th>Adj Close</th>\n",
       "      <th>Volume</th>\n",
       "    </tr>\n",
       "  </thead>\n",
       "  <tbody>\n",
       "    <tr>\n",
       "      <th>0</th>\n",
       "      <td>2005-09-27</td>\n",
       "      <td>AAL</td>\n",
       "      <td>21.05</td>\n",
       "      <td>21.40</td>\n",
       "      <td>19.10</td>\n",
       "      <td>19.30</td>\n",
       "      <td>18.19</td>\n",
       "      <td>961200.0</td>\n",
       "    </tr>\n",
       "    <tr>\n",
       "      <th>1</th>\n",
       "      <td>2005-09-28</td>\n",
       "      <td>AAL</td>\n",
       "      <td>19.30</td>\n",
       "      <td>20.53</td>\n",
       "      <td>19.20</td>\n",
       "      <td>20.50</td>\n",
       "      <td>19.33</td>\n",
       "      <td>5747900.0</td>\n",
       "    </tr>\n",
       "    <tr>\n",
       "      <th>2</th>\n",
       "      <td>2005-09-29</td>\n",
       "      <td>AAL</td>\n",
       "      <td>20.40</td>\n",
       "      <td>20.58</td>\n",
       "      <td>20.10</td>\n",
       "      <td>20.21</td>\n",
       "      <td>19.05</td>\n",
       "      <td>1078200.0</td>\n",
       "    </tr>\n",
       "    <tr>\n",
       "      <th>3</th>\n",
       "      <td>2005-09-30</td>\n",
       "      <td>AAL</td>\n",
       "      <td>20.26</td>\n",
       "      <td>21.05</td>\n",
       "      <td>20.18</td>\n",
       "      <td>21.01</td>\n",
       "      <td>19.81</td>\n",
       "      <td>3123300.0</td>\n",
       "    </tr>\n",
       "    <tr>\n",
       "      <th>4</th>\n",
       "      <td>2005-10-03</td>\n",
       "      <td>AAL</td>\n",
       "      <td>20.90</td>\n",
       "      <td>21.75</td>\n",
       "      <td>20.90</td>\n",
       "      <td>21.50</td>\n",
       "      <td>20.27</td>\n",
       "      <td>1057900.0</td>\n",
       "    </tr>\n",
       "    <tr>\n",
       "      <th>5</th>\n",
       "      <td>2005-10-04</td>\n",
       "      <td>AAL</td>\n",
       "      <td>21.44</td>\n",
       "      <td>22.50</td>\n",
       "      <td>21.44</td>\n",
       "      <td>22.16</td>\n",
       "      <td>20.89</td>\n",
       "      <td>1768800.0</td>\n",
       "    </tr>\n",
       "    <tr>\n",
       "      <th>6</th>\n",
       "      <td>2005-10-05</td>\n",
       "      <td>AAL</td>\n",
       "      <td>22.10</td>\n",
       "      <td>22.31</td>\n",
       "      <td>21.75</td>\n",
       "      <td>22.20</td>\n",
       "      <td>20.93</td>\n",
       "      <td>904300.0</td>\n",
       "    </tr>\n",
       "    <tr>\n",
       "      <th>7</th>\n",
       "      <td>2005-10-06</td>\n",
       "      <td>AAL</td>\n",
       "      <td>22.60</td>\n",
       "      <td>23.00</td>\n",
       "      <td>22.40</td>\n",
       "      <td>22.58</td>\n",
       "      <td>21.29</td>\n",
       "      <td>1614200.0</td>\n",
       "    </tr>\n",
       "    <tr>\n",
       "      <th>8</th>\n",
       "      <td>2005-10-07</td>\n",
       "      <td>AAL</td>\n",
       "      <td>22.25</td>\n",
       "      <td>22.60</td>\n",
       "      <td>21.80</td>\n",
       "      <td>22.15</td>\n",
       "      <td>20.88</td>\n",
       "      <td>753400.0</td>\n",
       "    </tr>\n",
       "    <tr>\n",
       "      <th>9</th>\n",
       "      <td>2005-10-10</td>\n",
       "      <td>AAL</td>\n",
       "      <td>22.28</td>\n",
       "      <td>22.29</td>\n",
       "      <td>22.10</td>\n",
       "      <td>22.21</td>\n",
       "      <td>20.94</td>\n",
       "      <td>538700.0</td>\n",
       "    </tr>\n",
       "  </tbody>\n",
       "</table>\n",
       "</div>"
      ],
      "text/plain": [
       "         Date symbol   Open   High    Low  Close  Adj Close     Volume\n",
       "0  2005-09-27    AAL  21.05  21.40  19.10  19.30      18.19   961200.0\n",
       "1  2005-09-28    AAL  19.30  20.53  19.20  20.50      19.33  5747900.0\n",
       "2  2005-09-29    AAL  20.40  20.58  20.10  20.21      19.05  1078200.0\n",
       "3  2005-09-30    AAL  20.26  21.05  20.18  21.01      19.81  3123300.0\n",
       "4  2005-10-03    AAL  20.90  21.75  20.90  21.50      20.27  1057900.0\n",
       "5  2005-10-04    AAL  21.44  22.50  21.44  22.16      20.89  1768800.0\n",
       "6  2005-10-05    AAL  22.10  22.31  21.75  22.20      20.93   904300.0\n",
       "7  2005-10-06    AAL  22.60  23.00  22.40  22.58      21.29  1614200.0\n",
       "8  2005-10-07    AAL  22.25  22.60  21.80  22.15      20.88   753400.0\n",
       "9  2005-10-10    AAL  22.28  22.29  22.10  22.21      20.94   538700.0"
      ]
     },
     "execution_count": 11,
     "metadata": {},
     "output_type": "execute_result"
    }
   ],
   "source": [
    "df.head(10)"
   ]
  },
  {
   "cell_type": "code",
   "execution_count": 12,
   "id": "5fcc567e",
   "metadata": {},
   "outputs": [
    {
     "name": "stdout",
     "output_type": "stream",
     "text": [
      "Date          object\n",
      "symbol        object\n",
      "Open         float64\n",
      "High         float64\n",
      "Low          float64\n",
      "Close        float64\n",
      "Adj Close    float64\n",
      "Volume       float64\n",
      "dtype: object\n"
     ]
    }
   ],
   "source": [
    "print(df.dtypes)"
   ]
  },
  {
   "cell_type": "code",
   "execution_count": 7,
   "id": "03230dda",
   "metadata": {},
   "outputs": [],
   "source": [
    "for col in df.columns:\n",
    "    pct_missing = np.mean(df[col].isnull())\n",
    "    if pct_missing >=0.10:\n",
    "        print('{} - {}%'.format(col, round(pct_missing*100)))\n",
    "        \n"
   ]
  },
  {
   "cell_type": "code",
   "execution_count": 13,
   "id": "b882596d",
   "metadata": {},
   "outputs": [
    {
     "name": "stdout",
     "output_type": "stream",
     "text": [
      "Index(['Date', 'symbol', 'Open', 'High', 'Low', 'Close', 'Adj Close',\n",
      "       'Volume'],\n",
      "      dtype='object')\n"
     ]
    }
   ],
   "source": [
    "print(df.columns)\n"
   ]
  },
  {
   "cell_type": "code",
   "execution_count": 14,
   "id": "3fba5e57",
   "metadata": {},
   "outputs": [],
   "source": [
    "# Unnecessary type: Repetitive\n",
    "\n",
    "# Finding columns with unnecessary data.\n",
    "\n",
    "num_rows = len(df.index)\n",
    "low_info_cols = [] #\n",
    "\n",
    "for col in df.columns:\n",
    "    cnts = df[col].value_counts(dropna=False)\n",
    "    top_pct = (cnts/num_rows).iloc[0]\n",
    "    \n",
    "    if top_pct > 0.95:\n",
    "        low_info_cols.append(col)\n",
    "        print('{0}: {1:.5f}%'.format(col, top_pct*100))\n",
    "        print(cnts)\n",
    "        print()\n",
    "        "
   ]
  },
  {
   "cell_type": "code",
   "execution_count": null,
   "id": "ad16102f",
   "metadata": {},
   "outputs": [],
   "source": []
  }
 ],
 "metadata": {
  "kernelspec": {
   "display_name": "Python 3 (ipykernel)",
   "language": "python",
   "name": "python3"
  },
  "language_info": {
   "codemirror_mode": {
    "name": "ipython",
    "version": 3
   },
   "file_extension": ".py",
   "mimetype": "text/x-python",
   "name": "python",
   "nbconvert_exporter": "python",
   "pygments_lexer": "ipython3",
   "version": "3.9.13"
  }
 },
 "nbformat": 4,
 "nbformat_minor": 5
}
